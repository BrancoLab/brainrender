{
 "cells": [
  {
   "cell_type": "markdown",
   "metadata": {},
   "source": [
    "# Using Notebooks\n",
    "\n",
    "`brainrender` can be used with Jupyter notebooks in two ways:\n",
    "\n",
    "1. you can **embed** a window with your rendered scene\n",
    "2. you can have your scene be rendered in a **pop-up** window.\n",
    "\n",
    "\n",
    "## Rendering your scene in a separate window\n",
    "\n",
    "If you want your scene to be rendered in a new window, then set this option before you create \n",
    "your `Scene`.\n",
    "\n",
    "```python\n",
    "import vedo\n",
    "vedo.settings.default_backend= 'vtk'\n",
    "```\n",
    "After this everything will work exactly the same as usual, and you will have access to all of brainrender's features. \n"
   ]
  },
  {
   "cell_type": "markdown",
   "metadata": {},
   "source": [
    "### To visualise primary visual cortex in the Allen Adult Mouse Brain Atlas:"
   ]
  },
  {
   "cell_type": "code",
   "execution_count": 2,
   "metadata": {},
   "outputs": [],
   "source": [
    "import vedo\n",
    "vedo.settings.default_backend= 'vtk'\n",
    "\n",
    "from brainrender import Scene\n",
    "popup_scene = Scene(atlas_name='allen_mouse_50um', title='popup')\n",
    "\n",
    "popup_scene.add_brain_region('VISp')\n",
    "\n",
    "popup_scene.render()  # press 'Esc' to close"
   ]
  },
  {
   "cell_type": "markdown",
   "metadata": {},
   "source": [
    "## Embedding the scene\n",
    "\n",
    "When embedding renderings in Jupyter Notebook not all of `brainrender`'s functionality will work! \n",
    "If you want to support all of `brainrender`'s features you should **not embed** renderings in the notebooks.\n",
    "\n",
    "Note that this is due to the backend (`k3d`\\ used to embed the renderings not because of `brainrender`.\n",
    "\n",
    "If you still need to embed your `Scene` then `brainrender` works slightly differently."
   ]
  },
  {
   "cell_type": "markdown",
   "metadata": {},
   "source": [
    "### To visualise the tectum in the larval zebrafish atlas:"
   ]
  },
  {
   "cell_type": "code",
   "execution_count": 3,
   "metadata": {},
   "outputs": [
    {
     "data": {
      "text/html": [
       "<pre style=\"white-space:pre;overflow-x:auto;line-height:normal;font-family:Menlo,'DejaVu Sans Mono',consolas,'Courier New',monospace\"><span style=\"color: #fb8c00; text-decoration-color: #fb8c00\">Cannot run function </span><span style=\"color: #ff7043; text-decoration-color: #ff7043; font-weight: bold\">_get_inset</span><span style=\"color: #fb8c00; text-decoration-color: #fb8c00\"> in a jupyter notebook</span> <span style=\"color: #fb8c00; text-decoration-color: #fb8c00\">Try setting the correct backend before creating your scene:</span>\n",
       "\n",
       "<span style=\"color: #f92672; text-decoration-color: #f92672; background-color: #272822\">from</span><span style=\"color: #f8f8f2; text-decoration-color: #f8f8f2; background-color: #272822\"> vedo </span><span style=\"color: #f92672; text-decoration-color: #f92672; background-color: #272822\">import</span><span style=\"color: #f8f8f2; text-decoration-color: #f8f8f2; background-color: #272822\"> embedWindow</span><span style=\"background-color: #272822\">                                                                                       </span>\n",
       "<span style=\"color: #f8f8f2; text-decoration-color: #f8f8f2; background-color: #272822\">embedWindow(</span><span style=\"color: #66d9ef; text-decoration-color: #66d9ef; background-color: #272822\">None</span><span style=\"color: #f8f8f2; text-decoration-color: #f8f8f2; background-color: #272822\">)</span><span style=\"background-color: #272822\">                                                                                                  </span>\n",
       "</pre>\n"
      ],
      "text/plain": [
       "\u001B[38;2;251;140;0mCannot run function \u001B[0m\u001B[1;38;2;255;112;67m_get_inset\u001B[0m\u001B[38;2;251;140;0m in a jupyter notebook\u001B[0m \u001B[38;2;251;140;0mTry setting the correct backend before creating your scene:\u001B[0m\n",
       "\n",
       "\u001B[38;2;249;38;114;48;2;39;40;34mfrom\u001B[0m\u001B[38;2;248;248;242;48;2;39;40;34m \u001B[0m\u001B[38;2;248;248;242;48;2;39;40;34mvedo\u001B[0m\u001B[38;2;248;248;242;48;2;39;40;34m \u001B[0m\u001B[38;2;249;38;114;48;2;39;40;34mimport\u001B[0m\u001B[38;2;248;248;242;48;2;39;40;34m \u001B[0m\u001B[38;2;248;248;242;48;2;39;40;34membedWindow\u001B[0m\u001B[48;2;39;40;34m                                                                                       \u001B[0m\n",
       "\u001B[38;2;248;248;242;48;2;39;40;34membedWindow\u001B[0m\u001B[38;2;248;248;242;48;2;39;40;34m(\u001B[0m\u001B[38;2;102;217;239;48;2;39;40;34mNone\u001B[0m\u001B[38;2;248;248;242;48;2;39;40;34m)\u001B[0m\u001B[48;2;39;40;34m                                                                                                  \u001B[0m\n"
      ]
     },
     "metadata": {},
     "output_type": "display_data"
    },
    {
     "data": {
      "text/html": [
       "<pre style=\"white-space:pre;overflow-x:auto;line-height:normal;font-family:Menlo,'DejaVu Sans Mono',consolas,'Courier New',monospace\"><span style=\"color: #26a69a; text-decoration-color: #26a69a\">Your scene is ready for rendering, use:</span>\n",
       "\n",
       "<span style=\"color: #f92672; text-decoration-color: #f92672; background-color: #272822\">from</span><span style=\"color: #f8f8f2; text-decoration-color: #f8f8f2; background-color: #272822\"> vedo </span><span style=\"color: #f92672; text-decoration-color: #f92672; background-color: #272822\">import</span><span style=\"color: #f8f8f2; text-decoration-color: #f8f8f2; background-color: #272822\"> show</span><span style=\"background-color: #272822\">                                                                                              </span>\n",
       "<span style=\"color: #f8f8f2; text-decoration-color: #f8f8f2; background-color: #272822\">vedo</span><span style=\"color: #f92672; text-decoration-color: #f92672; background-color: #272822\">.</span><span style=\"color: #f8f8f2; text-decoration-color: #f8f8f2; background-color: #272822\">show(</span><span style=\"color: #f92672; text-decoration-color: #f92672; background-color: #272822\">*</span><span style=\"color: #f8f8f2; text-decoration-color: #f8f8f2; background-color: #272822\">scene</span><span style=\"color: #f92672; text-decoration-color: #f92672; background-color: #272822\">.</span><span style=\"color: #f8f8f2; text-decoration-color: #f8f8f2; background-color: #272822\">renderables)</span><span style=\"background-color: #272822\">                                                                                      </span>\n",
       "</pre>\n"
      ],
      "text/plain": [
       "\u001B[38;2;38;166;154mYour scene is ready for rendering, use:\u001B[0m\n",
       "\n",
       "\u001B[38;2;249;38;114;48;2;39;40;34mfrom\u001B[0m\u001B[38;2;248;248;242;48;2;39;40;34m \u001B[0m\u001B[38;2;248;248;242;48;2;39;40;34mvedo\u001B[0m\u001B[38;2;248;248;242;48;2;39;40;34m \u001B[0m\u001B[38;2;249;38;114;48;2;39;40;34mimport\u001B[0m\u001B[38;2;248;248;242;48;2;39;40;34m \u001B[0m\u001B[38;2;248;248;242;48;2;39;40;34mshow\u001B[0m\u001B[48;2;39;40;34m                                                                                              \u001B[0m\n",
       "\u001B[38;2;248;248;242;48;2;39;40;34mvedo\u001B[0m\u001B[38;2;249;38;114;48;2;39;40;34m.\u001B[0m\u001B[38;2;248;248;242;48;2;39;40;34mshow\u001B[0m\u001B[38;2;248;248;242;48;2;39;40;34m(\u001B[0m\u001B[38;2;249;38;114;48;2;39;40;34m*\u001B[0m\u001B[38;2;248;248;242;48;2;39;40;34mscene\u001B[0m\u001B[38;2;249;38;114;48;2;39;40;34m.\u001B[0m\u001B[38;2;248;248;242;48;2;39;40;34mrenderables\u001B[0m\u001B[38;2;248;248;242;48;2;39;40;34m)\u001B[0m\u001B[48;2;39;40;34m                                                                                      \u001B[0m\n"
      ]
     },
     "metadata": {},
     "output_type": "display_data"
    },
    {
     "name": "stderr",
     "output_type": "stream",
     "text": [
      "/home/adam/miniconda3/envs/brainglobe/lib/python3.10/site-packages/traittypes/traittypes.py:97: UserWarning: Given trait value dtype \"float64\" does not match required type \"float32\". A coerced copy has been created.\n",
      "  warnings.warn(\n"
     ]
    },
    {
     "data": {
      "application/vnd.jupyter.widget-view+json": {
       "model_id": "bed7f58aa2674e279e1ac7e5b38a09e8",
       "version_major": 2,
       "version_minor": 0
      },
      "text/plain": [
       "Plot(antialias=True, axes=['x', 'y', 'z'], axes_helper=1.0, axes_helper_colors=[16711680, 65280, 255], backgro…"
      ]
     },
     "metadata": {},
     "output_type": "display_data"
    }
   ],
   "source": [
    "# Set the backend\n",
    "import vedo\n",
    "vedo.settings.default_backend= 'k3d'\n",
    "\n",
    "# Create a brainrender scene\n",
    "from brainrender import Scene\n",
    "scene = Scene(atlas_name='mpin_zfish_1um', title='Embedded')  # note the title will not actually display\n",
    "scene.add_brain_region('tectum')\n",
    "\n",
    "# Make sure it gets embedded in the window\n",
    "scene.jupyter = True\n",
    "\n",
    "# scene.render now will prepare the scene for rendering, but it won't render anything yet\n",
    "scene.render()\n",
    "\n",
    "# To display the scene we use `vedo`'s `show` method to show the scene's actors\n",
    "from vedo import Plotter  # <- this will be used to render an embedded scene \n",
    "plt = Plotter()\n",
    "plt.show(*scene.renderables)  # same as vedo.show(*scene.renderables)"
   ]
  }
 ],
 "metadata": {
  "file_extension": ".py",
  "kernelspec": {
   "display_name": "Python 3 (ipykernel)",
   "language": "python",
   "name": "python3"
  },
  "language_info": {
   "codemirror_mode": {
    "name": "ipython",
    "version": 3
   },
   "file_extension": ".py",
   "mimetype": "text/x-python",
   "name": "python",
   "nbconvert_exporter": "python",
   "pygments_lexer": "ipython3",
   "version": "3.10.13"
  },
  "mimetype": "text/x-python",
  "name": "python",
  "npconvert_exporter": "python",
  "pygments_lexer": "ipython3",
  "version": 3
 },
 "nbformat": 4,
 "nbformat_minor": 2
}
